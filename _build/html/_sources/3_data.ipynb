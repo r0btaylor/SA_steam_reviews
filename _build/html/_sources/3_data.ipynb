{
 "cells": [
  {
   "cell_type": "markdown",
   "id": "196b65ee-5242-419e-88b3-b462986aa459",
   "metadata": {
    "tags": [
     "hide-input"
    ]
   },
   "source": [
    "# The Data"
   ]
  },
  {
   "cell_type": "markdown",
   "id": "8b81297f-3638-4ee2-81f5-d5b66afefce2",
   "metadata": {},
   "source": [
    "```{figure} https://cdn.akamai.steamstatic.com/steam/apps/1938090/header.jpg?t=1668017465\n",
    "---\n",
    "align: center\n",
    "---\n",
    "```\n",
    "\n",
    "Review data for the title ['Call of Duty: Modern Warfare 2'](https://store.steampowered.com/app/1938090/Call_of_Duty_Modern_Warfare_II/) published by Activision were collected. \n",
    "\n",
    "At the time of access (2022-12-11), this title held a 'Mixed' review score based on 142,374 user reviews.\n",
    "\n",
    "Reviews were scraped from the Steam store using the `steamreviews` API for Python {cite}`wok_2018`."
   ]
  },
  {
   "cell_type": "code",
   "execution_count": 1,
   "id": "b4677e68-f4fa-46c0-b83d-9dd1fe80055a",
   "metadata": {
    "tags": [
     "hide-input",
     "remove-output"
    ]
   },
   "outputs": [
    {
     "name": "stdout",
     "output_type": "stream",
     "text": [
      "[appID = 1938090] expected #reviews = 114894\n"
     ]
    }
   ],
   "source": [
    "# api access\n",
    "\n",
    "import steamreviews\n",
    "\n",
    "# set parameters\n",
    "request_params = dict()\n",
    "request_params['language'] = 'english'\n",
    "request_params['purchase_type'] = 'all'\n",
    "app_id = 1938090\n",
    "\n",
    "# store results as dictionary\n",
    "review_dict, query_count = steamreviews.download_reviews_for_app_id(app_id,chosen_request_params=request_params)\n"
   ]
  },
  {
   "cell_type": "markdown",
   "id": "9ab98a01-9137-4f02-84dd-17b702630061",
   "metadata": {},
   "source": [
    "All available English language reviews were scraped.     \n",
    "\n",
    "Review text is extracted and all observations without text are dropped. This forms an initial sample of 115,952 observations.\n",
    "\n",
    "The resulting data frame is stored as a .csv for use in subsequent stages of the project."
   ]
  },
  {
   "cell_type": "code",
   "execution_count": 2,
   "id": "3a4e6e80-3c06-43ce-aae5-157ffb8e7c78",
   "metadata": {
    "tags": [
     "hide-input"
    ]
   },
   "outputs": [
    {
     "data": {
      "text/html": [
       "<div>\n",
       "<style scoped>\n",
       "    .dataframe tbody tr th:only-of-type {\n",
       "        vertical-align: middle;\n",
       "    }\n",
       "\n",
       "    .dataframe tbody tr th {\n",
       "        vertical-align: top;\n",
       "    }\n",
       "\n",
       "    .dataframe thead th {\n",
       "        text-align: right;\n",
       "    }\n",
       "</style>\n",
       "<table border=\"1\" class=\"dataframe\">\n",
       "  <thead>\n",
       "    <tr style=\"text-align: right;\">\n",
       "      <th></th>\n",
       "      <th>review_text</th>\n",
       "    </tr>\n",
       "  </thead>\n",
       "  <tbody>\n",
       "    <tr>\n",
       "      <th>0</th>\n",
       "      <td>ye is pretty good</td>\n",
       "    </tr>\n",
       "    <tr>\n",
       "      <th>1</th>\n",
       "      <td>The game hasn't crashed on me, don't know what...</td>\n",
       "    </tr>\n",
       "    <tr>\n",
       "      <th>2</th>\n",
       "      <td>Best Cod since BO2. Coming from a cod vet, the...</td>\n",
       "    </tr>\n",
       "    <tr>\n",
       "      <th>3</th>\n",
       "      <td>I liked the game because I'm a big COD fan eve...</td>\n",
       "    </tr>\n",
       "    <tr>\n",
       "      <th>4</th>\n",
       "      <td>Just hit lvl 55 in 18 hours\\n\\nIs it fun? Yes\\...</td>\n",
       "    </tr>\n",
       "    <tr>\n",
       "      <th>...</th>\n",
       "      <td>...</td>\n",
       "    </tr>\n",
       "    <tr>\n",
       "      <th>115314</th>\n",
       "      <td>if you want to be killed directly at your spaw...</td>\n",
       "    </tr>\n",
       "    <tr>\n",
       "      <th>115315</th>\n",
       "      <td>I payed 80$ for a game i cant even play, I can...</td>\n",
       "    </tr>\n",
       "    <tr>\n",
       "      <th>115316</th>\n",
       "      <td>great remake</td>\n",
       "    </tr>\n",
       "    <tr>\n",
       "      <th>115317</th>\n",
       "      <td>guns and shoot very cool</td>\n",
       "    </tr>\n",
       "    <tr>\n",
       "      <th>115318</th>\n",
       "      <td>this game sucks so much dick is crashes every ...</td>\n",
       "    </tr>\n",
       "  </tbody>\n",
       "</table>\n",
       "<p>114919 rows × 1 columns</p>\n",
       "</div>"
      ],
      "text/plain": [
       "                                              review_text\n",
       "0                                       ye is pretty good\n",
       "1       The game hasn't crashed on me, don't know what...\n",
       "2       Best Cod since BO2. Coming from a cod vet, the...\n",
       "3       I liked the game because I'm a big COD fan eve...\n",
       "4       Just hit lvl 55 in 18 hours\\n\\nIs it fun? Yes\\...\n",
       "...                                                   ...\n",
       "115314  if you want to be killed directly at your spaw...\n",
       "115315  I payed 80$ for a game i cant even play, I can...\n",
       "115316                                       great remake\n",
       "115317                           guns and shoot very cool\n",
       "115318  this game sucks so much dick is crashes every ...\n",
       "\n",
       "[114919 rows x 1 columns]"
      ]
     },
     "execution_count": 2,
     "metadata": {},
     "output_type": "execute_result"
    }
   ],
   "source": [
    "import pandas as pd\n",
    "\n",
    "review_id = [x for x in review_dict['reviews']]\n",
    "review_text = [review_dict['reviews'][x]['review'] for x in review_id]\n",
    "\n",
    "df = pd.DataFrame({'review_text':review_text})\n",
    "\n",
    "# Keep reviews with >=1 word\n",
    "df = df.drop(df[df['review_text'].str.split().str.len()<1].index)\n",
    "\n",
    "df.to_csv('data/processed_review_data.csv',index=False)\n",
    "\n",
    "df"
   ]
  }
 ],
 "metadata": {
  "celltoolbar": "Edit Metadata",
  "kernelspec": {
   "display_name": "Python 3 (ipykernel)",
   "language": "python",
   "name": "python3"
  },
  "language_info": {
   "codemirror_mode": {
    "name": "ipython",
    "version": 3
   },
   "file_extension": ".py",
   "mimetype": "text/x-python",
   "name": "python",
   "nbconvert_exporter": "python",
   "pygments_lexer": "ipython3",
   "version": "3.10.4"
  }
 },
 "nbformat": 4,
 "nbformat_minor": 5
}
