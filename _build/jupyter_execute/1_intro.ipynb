{
 "cells": [
  {
   "cell_type": "markdown",
   "id": "bbb4c391-d021-435b-b7c3-4641d01de9ea",
   "metadata": {},
   "source": [
    "# Steam User Reviews: Aspect Based Sentiment Analysis\n",
    "## Extracting insight for game developers\n",
    "\n",
    "<p align=\"center\"> <img src=\"https://pngimages.in/uploads/png/Steam_Png_Image.png\"  width=\"150\" height=\"150\"> </p>\n",
    "    \n",
    "### Introduction\n",
    "\n",
    "In a [previous project](https://r0btaylor.github.io/NLP_steam_reviews), I attempted to identify salient aspects of game design by applying NLP and machine learning to user reviews on the Steam webstore.\n",
    "\n",
    "In the previous methodology, review text was used to predict an overall review classification. Weighted noun tokens were then extracted in an attempt to identify prominent aspects of the game associated with each classification of review. \n",
    "\n",
    "That method was fundamentally flawed as it was impossible to distinguish between varied sentiments within each review classification.\n",
    "\n",
    "In the present project, an alternative methodology will be employed. Aspect based sentiment analysis will be performed on a sentence by sentence basis. This should enable specific aspects of game design that users describe as particularly positive or negative to be identified.\n",
    "\n",
    "The results will hopefully offer a means for game developers to easily identify prominent negative/positive aspects of game design that could be used to inform future development patches.\n",
    "\n"
   ]
  }
 ],
 "metadata": {
  "kernelspec": {
   "display_name": "Python 3 (ipykernel)",
   "language": "python",
   "name": "python3"
  },
  "language_info": {
   "codemirror_mode": {
    "name": "ipython",
    "version": 3
   },
   "file_extension": ".py",
   "mimetype": "text/x-python",
   "name": "python",
   "nbconvert_exporter": "python",
   "pygments_lexer": "ipython3",
   "version": "3.10.4"
  }
 },
 "nbformat": 4,
 "nbformat_minor": 5
}