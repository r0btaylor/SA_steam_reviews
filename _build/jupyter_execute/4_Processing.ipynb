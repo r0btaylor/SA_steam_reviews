{
 "cells": [
  {
   "cell_type": "markdown",
   "id": "46de20b5-f834-456b-bf45-3450cc335f7c",
   "metadata": {},
   "source": [
    "# Text Processing\n",
    "\n",
    "## Load Data\n",
    "\n",
    "All data from the preceeding web scrape is loaded. \n",
    "\n",
    "`review_text` is converted to lower case."
   ]
  },
  {
   "cell_type": "code",
   "execution_count": 1,
   "id": "aadebe5b-4189-4522-8933-76e20b4f0517",
   "metadata": {
    "tags": [
     "hide-input"
    ]
   },
   "outputs": [],
   "source": [
    "import pandas as pd\n",
    "# load data\n",
    "df = pd.read_csv('data/processed_review_data.csv')\n",
    "df['review_text'] = df['review_text'].str.lower()"
   ]
  },
  {
   "cell_type": "markdown",
   "id": "089ff5e0-1be6-45f0-a653-f42a3edce18e",
   "metadata": {},
   "source": [
    "## Clean Text\n",
    "\n",
    "Several functions to process review text are developed and applied. These include:\n",
    "1. Contraction expansion\n",
    "2. String formatting\n",
    "3. Duplicate character and word removal\n",
    "4. Spelling correction\n",
    "5. Lemmatisation and tokenisation\n",
    "\n",
    "### Define Functions\n",
    "#### Contraction Expansion\n",
    "\n",
    "A dictionary of contractions and associated expnasions are defined.\n",
    "\n",
    "The Python [Regular Expression](https://docs.python.org/3/library/re.html) library is used to identify and replace all contractions with their expanded form.\n"
   ]
  },
  {
   "cell_type": "code",
   "execution_count": 2,
   "id": "5380a2c6-3abb-4d4f-8d54-44a0ccf51765",
   "metadata": {
    "tags": [
     "hide-input"
    ]
   },
   "outputs": [],
   "source": [
    "import re\n",
    "# define contractions dictionary\n",
    "cList = {\n",
    "    # A.\n",
    "    \"ain't\": \"am not\",\"aren't\": \"are not\",\n",
    "    # C.\n",
    "    \"can't\": \"cannot\",\"can't've\": \"cannot have\",\"'cause\": \"because\",\"could've\": \"could have\",\"couldn't\": \"could not\",\n",
    "    \"couldnt\": \"could not\",\"couldn't've\": \"could not have\",\n",
    "    # D.\n",
    "    \"didn't\": \"did not\",\"doesn't\": \"does not\",\"don't\": \"do not\",\n",
    "    # H.\n",
    "    \"hadn't\": \"had not\",\"hadn't've\": \"had not have\",\"hasn't\": \"has not\",\"haven't\": \"have not\",\"he'd\": \"he would\",\n",
    "    \"he'd've\": \"he would have\",\"he'll\": \"he will\",\"he'll've\": \"he will have\",\"he's\": \"he is\",\"how'd\": \"how did\",\n",
    "    \"how'd'y\": \"how do you\",\"how'll\": \"how will\",\"how's\": \"how is\",\n",
    "    # I.\n",
    "    \"i'd\": \"i would\",\"i'd've\": \"i would have\",\"i'll\": \"i will\",\"i'll've\": \"i will have\",\"i'm\": \"i am\",\"i've\": \"i have\",\n",
    "    \"isn't\": \"is not\",\"it'd\": \"it had\",\"it'd've\": \"it would have\",\"it'll\": \"it will\",\"itll\": \"it will\",\n",
    "    \"it'll've\": \"it will have\",\"it's\": \"it is\",\n",
    "    # L.\n",
    "    \"let's\": \"let us\",\n",
    "    # M.\n",
    "    \"ma'am\": \"madam\",\"mayn't\": \"may not\",\"might've\": \"might have\",\"mightn't\": \"might not\",\"mightn't've\": \"might not have\",\n",
    "    \"must've\": \"must have\",\"mustn't\": \"must not\",\"mustn't've\": \"must not have\",\n",
    "    # N.\n",
    "    \"needn't\": \"need not\",\"needn't've\": \"need not have\",\n",
    "    # O.\n",
    "    \"o'clock\": \"of the clock\",\"oughtn't\": \"ought not\",\"oughtn't've\": \"ought not have\",\n",
    "    # S.\n",
    "    \"shan't\": \"shall not\",\"sha'n't\": \"shall not\",\"shan't've\": \"shall not have\",\"she'd\": \"she would\",\n",
    "    \"she'd've\": \"she would have\",\"she'll\": \"she will\",\"she'll've\": \"she will have\",\"she's\": \"she is\",\"should've\": \"should have\",\n",
    "    \"shouldn't\": \"should not\",\"shouldn't've\": \"should not have\",\"so've\": \"so have\",\"so's\": \"so is\",\n",
    "    # T.\n",
    "    \"that'd\": \"that would\",\"that'd've\": \"that would have\",\"that's\": \"that is\",\"there'd\": \"there had\",\n",
    "    \"there'd've\": \"there would have\",\"there's\": \"there is\",\"they'd\": \"they would\",\"they'd've\": \"they would have\",\n",
    "    \"they'll\": \"they will\",\"they'll've\": \"they will have\",\"they're\": \"they are\",\"they've\": \"they have\",\"to've\": \"to have\",\n",
    "    # V.\n",
    "    \"vr\" : \"virtual reality\",\n",
    "    # W.\n",
    "    \"wasn't\": \"was not\",\"we'd\": \"we had\",\"we'd've\": \"we would have\",\"we'll\": \"we will\",\"we'll've\": \"we will have\",\n",
    "    \"we're\": \"we are\",\"we've\": \"we have\",\"weren't\": \"were not\",\"what'll\": \"what will\",\"what'll've\": \"what will have\",\n",
    "    \"what're\": \"what are\",\"what's\": \"what is\",\"what've\": \"what have\",\"when's\": \"when is\",\"when've\": \"when have\",\n",
    "    \"where'd\": \"where did\",\"where's\": \"where is\",\"where've\": \"where have\",\"who'll\": \"who will\",\"who'll've\": \"who will have\",\n",
    "    \"who's\": \"who is\",\"who've\": \"who have\",\"why's\": \"why is\",\"why've\": \"why have\",\"will've\": \"will have\",\"won't\": \"will not\",\n",
    "    \"won't've\": \"will not have\",\"would've\": \"would have\",\"wouldn't\": \"would not\",\"wouldn't've\": \"would not have\",\n",
    "    # Y.\n",
    "    \"y'all\": \"you all\",\"y'alls\": \"you alls\",\"y'all'd\": \"you all would\",\"y'all'd've\": \"you all would have\",\n",
    "    \"y'all're\": \"you all are\",\"y'all've\": \"you all have\",\"you'd\": \"you had\",\"you'd've\": \"you would have\",\n",
    "    \"you'll\": \"you you will\",\"you'll've\": \"you you will have\",\"you're\": \"you are\",\"you've\": \"you have\"\n",
    "}\n",
    "c_re = re.compile('(%s)' % '|'.join(cList.keys()))\n",
    "\n",
    "# define expansion function\n",
    "def expandContractions(text, cList=cList):\n",
    "    def replace(match):\n",
    "        return cList[match.group(0)]\n",
    "    return c_re.sub(replace, text)"
   ]
  },
  {
   "cell_type": "markdown",
   "id": "6246db8e-2fd5-43e7-9550-ab8132e0cdcb",
   "metadata": {
    "tags": []
   },
   "source": [
    "#### String Formatting\n",
    "The following string formatting is performed:\n",
    "* All sentences are transformed to end in a '.'\n",
    "* All floating point numbers are removed.\n",
    "* Non alphanumeric characters are dropped.\n",
    "* Repeated fullstops and additional white space are dropped."
   ]
  },
  {
   "cell_type": "code",
   "execution_count": 3,
   "id": "d43ed33d-6e93-41c0-8963-e5d90b27be4a",
   "metadata": {
    "tags": [
     "hide-input"
    ]
   },
   "outputs": [],
   "source": [
    "# define str format function\n",
    "def clean(text):\n",
    "    text = re.sub(r'[?!:]', '.', text) # make all sentence ends with '.'\n",
    "    text = re.sub('\\d*\\.\\d+','', text) # remove all floats\n",
    "    text = re.sub(\"[^a-zA-Z0-9. ]\", '', text) # remove all not listed chars \n",
    "    text = re.sub('\\.\\.+', '. ',text) # remove repeat fullstops\n",
    "    text = re.sub(' +',' ', text) # remove extra whitespace\n",
    "    return text"
   ]
  },
  {
   "cell_type": "markdown",
   "id": "7dfb804d-5c89-46f7-b985-197e380543c6",
   "metadata": {},
   "source": [
    "#### Duplicate Removal\n",
    "\n",
    "Consecutive duplicate words are dropped and consecutive repeat characters are limited to a maximum of 2."
   ]
  },
  {
   "cell_type": "code",
   "execution_count": 4,
   "id": "09224c34-500c-4eb1-ad71-e3a76296c365",
   "metadata": {
    "tags": [
     "hide-input"
    ]
   },
   "outputs": [],
   "source": [
    "# define duplicate removal function\n",
    "from itertools import groupby\n",
    "\n",
    "def consec_dup(text):\n",
    "    text = \" \".join([x[0] for x in groupby(text.split(\" \"))]) # remove repeat consecutive words\n",
    "    text = re.sub(r'(.)\\1+', r'\\1\\1',text) # replace >2 consecutive duplicate characters\n",
    "    return text"
   ]
  },
  {
   "cell_type": "markdown",
   "id": "e1ee1aab-908a-4e6a-a009-3a8252a49a69",
   "metadata": {},
   "source": [
    "#### Spelling Correction\n",
    "\n",
    "The `SymspellPy` library {cite}`symspell_2022` is used to perform spelling correction."
   ]
  },
  {
   "cell_type": "code",
   "execution_count": 5,
   "id": "35e9aeb1-cf71-4de8-b5e7-ccccfb47ecf6",
   "metadata": {
    "tags": [
     "hide-input"
    ]
   },
   "outputs": [],
   "source": [
    "import pkg_resources\n",
    "from symspellpy import SymSpell, Verbosity\n",
    "\n",
    "sym_spell = SymSpell(max_dictionary_edit_distance=2, prefix_length=7)\n",
    "dictionary_path = pkg_resources.resource_filename(\n",
    "    \"symspellpy\", \"frequency_dictionary_en_82_765.txt\"\n",
    ")\n",
    "\n",
    "sym_spell.load_dictionary(dictionary_path, term_index=0, count_index=1)\n",
    "\n",
    "def spell(text):\n",
    "    sentences = text.split('.')\n",
    "    corrected = \" \".join([sym_spell.lookup_compound(x, max_edit_distance=2, ignore_non_words=True,ignore_term_with_digits=True)[0].term+'.' for x in sentences])\n",
    "    return corrected"
   ]
  },
  {
   "cell_type": "markdown",
   "id": "0b0264d7-c818-4d82-b461-49d3aec8bfc6",
   "metadata": {},
   "source": [
    "#### Lemmatisation\n",
    "\n",
    "The `spaCy` library {cite}`spacy_2020` is utilised to lemmatise the review text and transform all words to their base root form."
   ]
  },
  {
   "cell_type": "code",
   "execution_count": 6,
   "id": "bbe42f9d-8f19-41a9-ba54-143c04a25051",
   "metadata": {
    "tags": [
     "hide-input"
    ]
   },
   "outputs": [],
   "source": [
    "import spacy\n",
    "nlp = spacy.load(\"en_core_web_sm\")\n",
    "\n",
    "def lemma(text):\n",
    "    doc = nlp(text)\n",
    "    text = [token.lemma_ for token in doc]\n",
    "    text = \" \".join(text)\n",
    "    return text"
   ]
  },
  {
   "cell_type": "markdown",
   "id": "764eaf28-7d73-40c5-8b10-5afe023b286f",
   "metadata": {},
   "source": [
    "### Apply Functions\n",
    "\n",
    "All functions are applied and the output saved to .csv for proceeding stages."
   ]
  },
  {
   "cell_type": "code",
   "execution_count": 7,
   "id": "77b5463d-27a0-43fe-b29d-d7ba52e72379",
   "metadata": {
    "tags": [
     "hide-input"
    ]
   },
   "outputs": [
    {
     "data": {
      "text/html": [
       "<div>\n",
       "<style scoped>\n",
       "    .dataframe tbody tr th:only-of-type {\n",
       "        vertical-align: middle;\n",
       "    }\n",
       "\n",
       "    .dataframe tbody tr th {\n",
       "        vertical-align: top;\n",
       "    }\n",
       "\n",
       "    .dataframe thead th {\n",
       "        text-align: right;\n",
       "    }\n",
       "</style>\n",
       "<table border=\"1\" class=\"dataframe\">\n",
       "  <thead>\n",
       "    <tr style=\"text-align: right;\">\n",
       "      <th></th>\n",
       "      <th>review_text</th>\n",
       "    </tr>\n",
       "  </thead>\n",
       "  <tbody>\n",
       "    <tr>\n",
       "      <th>0</th>\n",
       "      <td>be be pretty good .</td>\n",
       "    </tr>\n",
       "    <tr>\n",
       "      <th>1</th>\n",
       "      <td>the game have not crash on I do not know what ...</td>\n",
       "    </tr>\n",
       "    <tr>\n",
       "      <th>2</th>\n",
       "      <td>good cod since bo2 . come from a cod vet the m...</td>\n",
       "    </tr>\n",
       "    <tr>\n",
       "      <th>3</th>\n",
       "      <td>I like the game because I be a big cod fan eve...</td>\n",
       "    </tr>\n",
       "    <tr>\n",
       "      <th>4</th>\n",
       "      <td>just hit lvi 55 in 18 hour be it fun . yes be ...</td>\n",
       "    </tr>\n",
       "    <tr>\n",
       "      <th>...</th>\n",
       "      <td>...</td>\n",
       "    </tr>\n",
       "    <tr>\n",
       "      <th>115947</th>\n",
       "      <td>I have like how cod make sure to add some cont...</td>\n",
       "    </tr>\n",
       "    <tr>\n",
       "      <th>115948</th>\n",
       "      <td>I hate this game but I still play it because I...</td>\n",
       "    </tr>\n",
       "    <tr>\n",
       "      <th>115949</th>\n",
       "      <td>my been .</td>\n",
       "    </tr>\n",
       "    <tr>\n",
       "      <th>115950</th>\n",
       "      <td>too many mode cater to the young below 30 audi...</td>\n",
       "    </tr>\n",
       "    <tr>\n",
       "      <th>115951</th>\n",
       "      <td>pew game . .</td>\n",
       "    </tr>\n",
       "  </tbody>\n",
       "</table>\n",
       "<p>115952 rows × 1 columns</p>\n",
       "</div>"
      ],
      "text/plain": [
       "                                              review_text\n",
       "0                                     be be pretty good .\n",
       "1       the game have not crash on I do not know what ...\n",
       "2       good cod since bo2 . come from a cod vet the m...\n",
       "3       I like the game because I be a big cod fan eve...\n",
       "4       just hit lvi 55 in 18 hour be it fun . yes be ...\n",
       "...                                                   ...\n",
       "115947  I have like how cod make sure to add some cont...\n",
       "115948  I hate this game but I still play it because I...\n",
       "115949                                          my been .\n",
       "115950  too many mode cater to the young below 30 audi...\n",
       "115951                                       pew game . .\n",
       "\n",
       "[115952 rows x 1 columns]"
      ]
     },
     "execution_count": 7,
     "metadata": {},
     "output_type": "execute_result"
    }
   ],
   "source": [
    "for func in [expandContractions,clean,consec_dup,spell,lemma]:\n",
    "    df.review_text = df.review_text.map(func,na_action='ignore')\n",
    "\n",
    "df.dropna().to_csv('data/preTag_df1.csv',index=False)\n",
    "\n",
    "df"
   ]
  }
 ],
 "metadata": {
  "kernelspec": {
   "display_name": "Python 3 (ipykernel)",
   "language": "python",
   "name": "python3"
  },
  "language_info": {
   "codemirror_mode": {
    "name": "ipython",
    "version": 3
   },
   "file_extension": ".py",
   "mimetype": "text/x-python",
   "name": "python",
   "nbconvert_exporter": "python",
   "pygments_lexer": "ipython3",
   "version": "3.10.4"
  }
 },
 "nbformat": 4,
 "nbformat_minor": 5
}